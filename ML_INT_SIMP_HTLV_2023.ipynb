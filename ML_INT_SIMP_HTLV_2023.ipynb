{
  "cells": [
    {
      "cell_type": "markdown",
      "metadata": {
        "id": "view-in-github",
        "colab_type": "text"
      },
      "source": [
        "<a href=\"https://colab.research.google.com/github/MatheusABomfim/ML_HTLV_HAM-TSP/blob/main/ML_INT_SIMP_HTLV_2023.ipynb\" target=\"_parent\"><img src=\"https://colab.research.google.com/assets/colab-badge.svg\" alt=\"Open In Colab\"/></a>"
      ]
    },
    {
      "cell_type": "markdown",
      "metadata": {
        "id": "i9NeRhmuZ2f8"
      },
      "source": [
        "# Anotações/lembretes:\n",
        "\n",
        "*   Script do trabalho \"Avaliação do potencial uso de Machine Learning para a predição da mielopatia associada ao HTLV-1 a partir de dados clínicos e marcadores genéticos\". Trabalho titulado com menção honrosa no XVI Simpósio HTLV Brasil\n",
        "\n",
        "*   Foram utilizados dados da egressa Vanessa do LIPa, em conjunto com dados clínicos extaídos por integrantes do laboratório no período de 2023.\n",
        "\n",
        "*   Esse script é pautado no arquivo: \"Pautado no ML Wine data set\" com as devidas modificações\n",
        "\n",
        "*   Essa foi a versão piloto para a minha dissertação de mestrado, utilizando possívelmente MBL2 + ENTPD1 + Dados clínicos + Dados laboratoriais\n",
        "\n",
        "# Dicionário:\n",
        "* Na coluna: MBL-550\n",
        "  * HH = 0\n",
        "  * HL = 1\n",
        "  * LL = 2\n",
        "  \n",
        "* Na coluna: MBL-221\n",
        "  * YY = 0\n",
        "  * YX = 1\n",
        "  * xx = 2\n",
        "\n",
        "* Na coluna: MBL EXON\n",
        "  * AO = 0\n",
        "  * AA = 1\n",
        "  * OO = 2\n",
        "\n",
        "* Na coluna: SEXO\n",
        "  * M = 0\n",
        "  * F = 1\n",
        "\n",
        "* Na coluna: HAM/TSP\n",
        " * Sem mielopatia = 0\n",
        " * HAM/TSP = 1\n"
      ]
    },
    {
      "cell_type": "code",
      "execution_count": null,
      "metadata": {
        "colab": {
          "background_save": true,
          "base_uri": "https://localhost:8080/"
        },
        "id": "T0hlHooIktqD",
        "outputId": "de77a756-e1b4-498d-e7f6-a091566c82a7"
      },
      "outputs": [
        {
          "name": "stdout",
          "output_type": "stream",
          "text": [
            "Found existing installation: scikit-learn 1.2.2\n",
            "Uninstalling scikit-learn-1.2.2:\n",
            "  Would remove:\n",
            "    /usr/local/lib/python3.10/dist-packages/scikit_learn-1.2.2.dist-info/*\n",
            "    /usr/local/lib/python3.10/dist-packages/scikit_learn.libs/libgomp-a34b3233.so.1.0.0\n",
            "    /usr/local/lib/python3.10/dist-packages/sklearn/*\n",
            "Proceed (Y/n)? \u001b[31mERROR: Operation cancelled by user\u001b[0m\u001b[31m\n",
            "\u001b[0mTraceback (most recent call last):\n",
            "  File \"/usr/local/lib/python3.10/dist-packages/pip/_internal/cli/base_command.py\", line 169, in exc_logging_wrapper\n",
            "    status = run_func(*args)\n",
            "  File \"/usr/local/lib/python3.10/dist-packages/pip/_internal/commands/uninstall.py\", line 105, in run\n",
            "    uninstall_pathset = req.uninstall(\n",
            "  File \"/usr/local/lib/python3.10/dist-packages/pip/_internal/req/req_install.py\", line 680, in uninstall\n",
            "    uninstalled_pathset.remove(auto_confirm, verbose)\n",
            "  File \"/usr/local/lib/python3.10/dist-packages/pip/_internal/req/req_uninstall.py\", line 375, in remove\n",
            "    if auto_confirm or self._allowed_to_proceed(verbose):\n",
            "  File \"/usr/local/lib/python3.10/dist-packages/pip/_internal/req/req_uninstall.py\", line 415, in _allowed_to_proceed\n",
            "    return ask(\"Proceed (Y/n)? \", (\"y\", \"n\", \"\")) != \"n\"\n",
            "  File \"/usr/local/lib/python3.10/dist-packages/pip/_internal/utils/misc.py\", line 192, in ask\n",
            "    response = input(message)\n",
            "KeyboardInterrupt\n",
            "\n",
            "During handling of the above exception, another exception occurred:\n",
            "\n",
            "Traceback (most recent call last):\n",
            "  File \"/usr/local/bin/pip3\", line 8, in <module>\n",
            "    sys.exit(main())\n",
            "  File \"/usr/local/lib/python3.10/dist-packages/pip/_internal/cli/main.py\", line 79, in main\n",
            "    return command.main(cmd_args)\n",
            "  File \"/usr/local/lib/python3.10/dist-packages/pip/_internal/cli/base_command.py\", line 101, in main\n",
            "    return self._main(args)\n",
            "  File \"/usr/local/lib/python3.10/dist-packages/pip/_internal/cli/base_command.py\", line 223, in _main\n",
            "    return run(options, args)\n",
            "  File \"/usr/local/lib/python3.10/dist-packages/pip/_internal/cli/base_command.py\", line 207, in exc_logging_wrapper\n",
            "    logger.debug(\"Exception information:\", exc_info=True)\n",
            "  File \"/usr/lib/python3.10/logging/__init__.py\", line 1465, in debug\n",
            "    self._log(DEBUG, msg, args, **kwargs)\n",
            "  File \"/usr/lib/python3.10/logging/__init__.py\", line 1624, in _log\n",
            "    self.handle(record)\n",
            "  File \"/usr/lib/python3.10/logging/__init__.py\", line 1634, in handle\n",
            "    self.callHandlers(record)\n",
            "  File \"/usr/lib/python3.10/logging/__init__.py\", line 1696, in callHandlers\n",
            "    hdlr.handle(record)\n",
            "  File \"/usr/lib/python3.10/logging/__init__.py\", line 968, in handle\n",
            "    self.emit(record)\n",
            "  File \"/usr/lib/python3.10/logging/handlers.py\", line 75, in emit\n",
            "    logging.FileHandler.emit(self, record)\n",
            "  File \"/usr/lib/python3.10/logging/__init__.py\", line 1218, in emit\n",
            "    StreamHandler.emit(self, record)\n",
            "  File \"/usr/lib/python3.10/logging/__init__.py\", line 1100, in emit\n",
            "    msg = self.format(record)\n",
            "  File \"/usr/lib/python3.10/logging/__init__.py\", line 943, in format\n",
            "    return fmt.format(record)\n",
            "  File \"/usr/local/lib/python3.10/dist-packages/pip/_internal/utils/logging.py\", line 112, in format\n",
            "    formatted = super().format(record)\n",
            "  File \"/usr/lib/python3.10/logging/__init__.py\", line 686, in format\n",
            "    record.exc_text = self.formatException(record.exc_info)\n",
            "  File \"/usr/lib/python3.10/logging/__init__.py\", line 636, in formatException\n",
            "    traceback.print_exception(ei[0], ei[1], tb, None, sio)\n",
            "  File \"/usr/lib/python3.10/traceback.py\", line 119, in print_exception\n",
            "    te = TracebackException(type(value), value, tb, limit=limit, compact=True)\n",
            "  File \"/usr/lib/python3.10/traceback.py\", line 502, in __init__\n",
            "    self.stack = StackSummary.extract(\n",
            "  File \"/usr/lib/python3.10/traceback.py\", line 383, in extract\n",
            "    f.line\n",
            "  File \"/usr/lib/python3.10/traceback.py\", line 306, in line\n",
            "    self._line = linecache.getline(self.filename, self.lineno)\n",
            "  File \"/usr/lib/python3.10/linecache.py\", line 30, in getline\n",
            "    lines = getlines(filename, module_globals)\n",
            "  File \"/usr/lib/python3.10/linecache.py\", line 46, in getlines\n",
            "    return updatecache(filename, module_globals)\n",
            "  File \"/usr/lib/python3.10/linecache.py\", line 136, in updatecache\n",
            "    with tokenize.open(fullname) as fp:\n",
            "  File \"/usr/lib/python3.10/tokenize.py\", line 396, in open\n",
            "    encoding, lines = detect_encoding(buffer.readline)\n",
            "  File \"/usr/lib/python3.10/tokenize.py\", line 365, in detect_encoding\n",
            "    first = read_or_stop()\n",
            "  File \"/usr/lib/python3.10/tokenize.py\", line 323, in read_or_stop\n",
            "    return readline()\n",
            "KeyboardInterrupt\n",
            "^C\n",
            "Requirement already satisfied: scikit-learn in /usr/local/lib/python3.10/dist-packages (1.2.2)\n",
            "Requirement already satisfied: numpy>=1.17.3 in /usr/local/lib/python3.10/dist-packages (from scikit-learn) (1.23.5)\n",
            "Requirement already satisfied: scipy>=1.3.2 in /usr/local/lib/python3.10/dist-packages (from scikit-learn) (1.11.4)\n",
            "Requirement already satisfied: joblib>=1.1.1 in /usr/local/lib/python3.10/dist-packages (from scikit-learn) (1.3.2)\n",
            "Requirement already satisfied: threadpoolctl>=2.0.0 in /usr/local/lib/python3.10/dist-packages (from scikit-learn) (3.2.0)\n",
            "Collecting shap\n",
            "  Downloading shap-0.44.0-cp310-cp310-manylinux_2_12_x86_64.manylinux2010_x86_64.manylinux_2_17_x86_64.manylinux2014_x86_64.whl (533 kB)\n",
            "\u001b[2K     \u001b[90m━━━━━━━━━━━━━━━━━━━━━━━━━━━━━━━━━━━━━━━━\u001b[0m \u001b[32m533.5/533.5 kB\u001b[0m \u001b[31m6.2 MB/s\u001b[0m eta \u001b[36m0:00:00\u001b[0m\n",
            "\u001b[?25hRequirement already satisfied: numpy in /usr/local/lib/python3.10/dist-packages (from shap) (1.23.5)\n",
            "Requirement already satisfied: scipy in /usr/local/lib/python3.10/dist-packages (from shap) (1.11.4)\n",
            "Requirement already satisfied: scikit-learn in /usr/local/lib/python3.10/dist-packages (from shap) (1.2.2)\n",
            "Requirement already satisfied: pandas in /usr/local/lib/python3.10/dist-packages (from shap) (1.5.3)\n",
            "Requirement already satisfied: tqdm>=4.27.0 in /usr/local/lib/python3.10/dist-packages (from shap) (4.66.1)\n",
            "Requirement already satisfied: packaging>20.9 in /usr/local/lib/python3.10/dist-packages (from shap) (23.2)\n",
            "Collecting slicer==0.0.7 (from shap)\n",
            "  Downloading slicer-0.0.7-py3-none-any.whl (14 kB)\n",
            "Requirement already satisfied: numba in /usr/local/lib/python3.10/dist-packages (from shap) (0.58.1)\n",
            "Requirement already satisfied: cloudpickle in /usr/local/lib/python3.10/dist-packages (from shap) (2.2.1)\n",
            "Requirement already satisfied: llvmlite<0.42,>=0.41.0dev0 in /usr/local/lib/python3.10/dist-packages (from numba->shap) (0.41.1)\n",
            "Requirement already satisfied: python-dateutil>=2.8.1 in /usr/local/lib/python3.10/dist-packages (from pandas->shap) (2.8.2)\n",
            "Requirement already satisfied: pytz>=2020.1 in /usr/local/lib/python3.10/dist-packages (from pandas->shap) (2023.3.post1)\n",
            "Requirement already satisfied: joblib>=1.1.1 in /usr/local/lib/python3.10/dist-packages (from scikit-learn->shap) (1.3.2)\n",
            "Requirement already satisfied: threadpoolctl>=2.0.0 in /usr/local/lib/python3.10/dist-packages (from scikit-learn->shap) (3.2.0)\n",
            "Requirement already satisfied: six>=1.5 in /usr/local/lib/python3.10/dist-packages (from python-dateutil>=2.8.1->pandas->shap) (1.16.0)\n",
            "Installing collected packages: slicer, shap\n",
            "Successfully installed shap-0.44.0 slicer-0.0.7\n"
          ]
        }
      ],
      "source": [
        "# Atualizando Sklearn\n",
        "!pip uninstall scikit-learn\n",
        "!pip install scikit-learn\n",
        "\n",
        "# Instalando o pacote shap (não consta no google colab)\n",
        "!pip install shap #Corrigir erro do shap"
      ]
    },
    {
      "cell_type": "code",
      "execution_count": null,
      "metadata": {
        "colab": {
          "background_save": true
        },
        "id": "n6XhBNGA9Hty"
      },
      "outputs": [],
      "source": [
        "# Importar dados e pacotes de trabalho:\n",
        "import pandas as pd\n",
        "import numpy as np\n",
        "import os\n",
        "from sklearn.model_selection import train_test_split\n",
        "from sklearn.ensemble import ExtraTreesClassifier\n",
        "import seaborn as sns\n",
        "import matplotlib.pyplot as plt\n",
        "from sklearn.linear_model import LogisticRegression\n",
        "from sklearn.neighbors import KNeighborsClassifier\n",
        "from sklearn.svm import SVC, LinearSVC, NuSVC\n",
        "from sklearn.tree import DecisionTreeClassifier\n",
        "from sklearn.ensemble import RandomForestClassifier, AdaBoostClassifier, GradientBoostingClassifier\n",
        "from sklearn.naive_bayes import GaussianNB\n",
        "from sklearn.discriminant_analysis import LinearDiscriminantAnalysis\n",
        "from sklearn.discriminant_analysis import QuadraticDiscriminantAnalysis\n",
        "\n",
        "from sklearn.metrics import confusion_matrix, ConfusionMatrixDisplay, classification_report\n",
        "from sklearn.metrics import recall_score, accuracy_score,roc_curve, auc\n",
        "from sklearn.model_selection import train_test_split\n",
        "from sklearn.ensemble import RandomForestClassifier\n",
        "from sklearn.neural_network import MLPClassifier\n",
        "\n",
        "from sklearn.preprocessing import LabelEncoder\n",
        "#import shap\n",
        "\n",
        "dados_iniciais_Vanessa = ('/content/drive/MyDrive/Mestrado/Códigos_Bioinfo_e_docs_relacionados(menos_Python_colab)/Treinamento_inicial_ML/ML_(base_wine_dataset)_para_dados_MBL_Ana_patrícia/Resultados_final(MBL+Clinica)/tabela_Vanessa_Treinamento_ML.csv')\n",
        "\n",
        "#Ignorando avisos de erro\n",
        "import warnings\n",
        "warnings.filterwarnings('ignore')"
      ]
    },
    {
      "cell_type": "markdown",
      "metadata": {
        "id": "G5jda1HOwIqt"
      },
      "source": [
        "# Importação e tratamento de dados:"
      ]
    },
    {
      "cell_type": "code",
      "execution_count": null,
      "metadata": {
        "colab": {
          "background_save": true
        },
        "id": "sO2io8QDwi9D"
      },
      "outputs": [],
      "source": [
        "# Import Data Frame\n",
        "# Import initial file \"dados_iniciais_Vanessa\"\n",
        "df = pd.read_table(dados_iniciais_Vanessa, sep=',')  # sep= parâmetro separador(;)\n",
        "nome_arquivo = os.path.basename(dados_iniciais_Vanessa).split(\".\")  # obtem o nome do arquivo = os.path.basename(arquivo) e split obtém o nome em partes separadas por ponto\n",
        "nome_arquivo = nome_arquivo[0]  # obtem o nome do arquivo sem a extensão\n",
        "caminho_arquivo = os.path.dirname(dados_iniciais_Vanessa) #obtem o caminho do arquivo, sem o nome dele (arquivo)"
      ]
    },
    {
      "cell_type": "code",
      "execution_count": null,
      "metadata": {
        "colab": {
          "background_save": true
        },
        "id": "z9qRdvqbBEcM",
        "outputId": "0185e0ce-434b-4549-ea26-13295ab8c6c5"
      },
      "outputs": [
        {
          "name": "stdout",
          "output_type": "stream",
          "text": [
            "Index(['NUM AMO', 'NOME', 'REGISTRO', 'SEXO', 'Idade 2018 (2019 AZUL)',\n",
            "       'HAM/TSP', 'MBL-550', 'MBL -221', 'MBL EXON', 'SINTOMAS',\n",
            "       'ANO DE DIAGNOSTICO', 'SINT. DET.', 'Incontinência Urinária',\n",
            "       'dor urinária', 'parestesia', 'Paresia', 'Hipereflexia',\n",
            "       'Hipereflexia em MMII', 'Hiperatividade', 'fraqueza',\n",
            "       'caroços no corpo', 'disúria', 'Deficit motor', 'Dormência', 'Dor',\n",
            "       'Dor Articular', 'Dor na bexiga', 'Dor na lombar', 'Dor em MMII',\n",
            "       'perda auditiva', 'Hipertensão', 'marcha espática', 'artrose',\n",
            "       'dificuldade de deambular', 'Perda de força', 'Espasticidade',\n",
            "       'Noctúria', 'Neuropatia', 'Bexiga neurogênica', 'Surtos psiquicos',\n",
            "       'Crises compulsivas', 'Insônia', 'hipertomocidade', 'Cadeirante',\n",
            "       'Mielopatia', 'Câimbras', 'Diabetes', 'Obesidade', 'Depressão ',\n",
            "       'Ansiedade', 'Poliaciúria', 'Baixo fluxo urinário', 'Esquizofrenia',\n",
            "       'Problemas nos MMII', 'Edema MMSS', 'Doença psiquiátrica',\n",
            "       'Osteoporose', 'Insuficiência renal crônica',\n",
            "       'Descontrole esfincteriano', 'Hérnia', 'Dificuldade de urinar',\n",
            "       'Fraqueza ', 'Hipotireodismo', 'Descontrole urinário',\n",
            "       'Síndrome piramidal', 'Dermatite', 'Sífilis', 'Infecções recorrentes'],\n",
            "      dtype='object')\n"
          ]
        }
      ],
      "source": [
        "# Avaliação do êxito na importação do dataframe\n",
        "#print(df)\n",
        "#df.dtypes\n",
        "#df.head\n",
        "print(df.columns)"
      ]
    },
    {
      "cell_type": "markdown",
      "metadata": {
        "id": "AGUDFNlKVGVb"
      },
      "source": [
        "**Criando diretório para armazenamento**"
      ]
    },
    {
      "cell_type": "code",
      "execution_count": null,
      "metadata": {
        "colab": {
          "background_save": true
        },
        "id": "9TFC5G9g3pQl",
        "outputId": "864ca462-bcee-44cb-a261-e3b9de128815"
      },
      "outputs": [
        {
          "name": "stdout",
          "output_type": "stream",
          "text": [
            "O diretório já existe!\n",
            "/content/drive/MyDrive/Mestrado/Códigos_Bioinfo_e_docs_relacionados(menos_Python_colab)/Treinamento_inicial_ML/ML_(base_wine_dataset)_para_dados_MBL_Ana_patrícia/Resultados_final(MBL+Clinica)/tabela_Vanessa_Treinamento_ML\n",
            "--> Verifique se ele está vazio, ou possui arquivos! \n",
            "\n",
            "Dados carregados! \n",
            "O seu dado apresenta o seguinte quantitativo de (linhas, colunas): (155, 68)\n"
          ]
        }
      ],
      "source": [
        "# Verificando Diretorio\n",
        "diretorio_name = caminho_arquivo + \"/\" + nome_arquivo  # cria o diretório a partir das variáveis acima de caminho e nome_arquivo\n",
        "try:\n",
        "    os.mkdir(diretorio_name)  # tenta criar o diretório\n",
        "    print(\"Novo Diretório Criado! \\n\")\n",
        "except FileExistsError:\n",
        "    print(\"O diretório já existe!\")\n",
        "    print(diretorio_name)\n",
        "    print(\"--> Verifique se ele está vazio, ou possui arquivos! \\n\")\n",
        "\n",
        "# Formato do dataframe (linhas, colunas)\n",
        "print('Dados carregados! \\nO seu dado apresenta o seguinte quantitativo de (linhas, colunas):', df.shape)"
      ]
    },
    {
      "cell_type": "code",
      "execution_count": null,
      "metadata": {
        "colab": {
          "background_save": true
        },
        "id": "bEcJOGLJB7qt"
      },
      "outputs": [],
      "source": [
        "# Transformação de dados nominais categóricos, por numéricos categóricos:\n",
        "df['SEXO'] = df['SEXO'].replace('M',0)\n",
        "df['SEXO'] = df['SEXO'].replace('F',1)\n",
        "df['HAM/TSP'] = df['HAM/TSP'].replace('NÃO',0)\n",
        "df['HAM/TSP'] = df['HAM/TSP'].replace('SIM',1)\n",
        "\n",
        "# Eliminação de dados que estejam nebulosos:\n",
        "df_filtered = df[df['HAM/TSP'].isin(['1', '0'])]\n",
        "df_filtered = df[df['HAM/TSP'].isin(['1', '0'])]\n",
        "\n",
        "# Eliminação de colunas que não serão utilizadas:\n",
        "df = df.drop('SINTOMAS', axis=1)\n",
        "df = df.drop('SINT. DET.', axis=1)\n",
        "df = df.drop('ANO DE DIAGNOSTICO', axis=1)\n",
        "df = df.drop('NOME', axis=1)\n",
        "df = df.drop('REGISTRO', axis=1)\n",
        "df = df.drop('NUM AMO', axis=1)\n",
        "\n",
        "# Transformação de dados em string em float64:\n",
        "df['HAM/TSP'] = pd.to_numeric(df['HAM/TSP'],errors = 'coerce')\n",
        "\n",
        "# Remoção de linhas com valores nulos:\n",
        "df = df.dropna()"
      ]
    },
    {
      "cell_type": "code",
      "execution_count": null,
      "metadata": {
        "colab": {
          "background_save": true
        },
        "id": "-gKMxss22N0V",
        "outputId": "9040c0c0-7afb-4110-9102-a925540aef71"
      },
      "outputs": [
        {
          "name": "stdout",
          "output_type": "stream",
          "text": [
            "     SEXO  Idade 2018 (2019 AZUL)  HAM/TSP  MBL-550  MBL -221  MBL EXON  \\\n",
            "0       0                      68      0.0        1         0         2   \n",
            "1       1                      32      0.0        0         0         1   \n",
            "2       0                      54      0.0        2         1         0   \n",
            "3       0                      36      0.0        1         0         0   \n",
            "4       0                      41      0.0        1         1         1   \n",
            "..    ...                     ...      ...      ...       ...       ...   \n",
            "150     1                      76      0.0        2         0         0   \n",
            "151     1                      63      0.0        1         0         0   \n",
            "152     1                      82      0.0        1         0         0   \n",
            "153     0                      62      0.0        2         0         0   \n",
            "154     1                      53      0.0        2         0         0   \n",
            "\n",
            "     Incontinência Urinária  dor urinária  parestesia  Paresia  ...  \\\n",
            "0                         1             1           1        0  ...   \n",
            "1                         0             0           0        0  ...   \n",
            "2                         0             0           0        0  ...   \n",
            "3                         0             0           0        0  ...   \n",
            "4                         0             0           0        0  ...   \n",
            "..                      ...           ...         ...      ...  ...   \n",
            "150                       0             0           0        0  ...   \n",
            "151                       0             0           0        0  ...   \n",
            "152                       0             0           0        0  ...   \n",
            "153                       0             0           0        0  ...   \n",
            "154                       0             0           0        0  ...   \n",
            "\n",
            "     Descontrole esfincteriano  Hérnia  Dificuldade de urinar  Fraqueza   \\\n",
            "0                            0       0                      0          0   \n",
            "1                            0       0                      0          0   \n",
            "2                            0       0                      0          0   \n",
            "3                            0       0                      0          0   \n",
            "4                            0       0                      0          0   \n",
            "..                         ...     ...                    ...        ...   \n",
            "150                          0       0                      0          0   \n",
            "151                          0       0                      0          0   \n",
            "152                          0       0                      0          0   \n",
            "153                          0       0                      0          1   \n",
            "154                          0       0                      0          0   \n",
            "\n",
            "     Hipotireodismo  Descontrole urinário  Síndrome piramidal  Dermatite  \\\n",
            "0                 0                     0                   0          0   \n",
            "1                 0                     0                   0          0   \n",
            "2                 0                     0                   0          0   \n",
            "3                 0                     0                   0          0   \n",
            "4                 0                     0                   0          0   \n",
            "..              ...                   ...                 ...        ...   \n",
            "150               0                     0                   0          0   \n",
            "151               0                     0                   0          0   \n",
            "152               0                     0                   0          0   \n",
            "153               0                     0                   0          0   \n",
            "154               0                     0                   0          0   \n",
            "\n",
            "     Sífilis  Infecções recorrentes  \n",
            "0          0                      0  \n",
            "1          0                      0  \n",
            "2          0                      0  \n",
            "3          0                      0  \n",
            "4          0                      0  \n",
            "..       ...                    ...  \n",
            "150        0                      0  \n",
            "151        0                      0  \n",
            "152        0                      0  \n",
            "153        0                      0  \n",
            "154        0                      0  \n",
            "\n",
            "[153 rows x 62 columns]\n"
          ]
        },
        {
          "data": {
            "text/plain": [
              "(153, 62)"
            ]
          },
          "execution_count": 7,
          "metadata": {},
          "output_type": "execute_result"
        }
      ],
      "source": [
        "print(df)\n",
        "df.shape"
      ]
    },
    {
      "cell_type": "code",
      "execution_count": null,
      "metadata": {
        "colab": {
          "background_save": true
        },
        "id": "SjP-QPdyf9D-"
      },
      "outputs": [],
      "source": [
        "# Divisão de dados\n",
        "\n",
        "# Dados categóricos binários\n",
        "cat_bin = ['SEXO', 'Idade 2018 (2019 AZUL)', 'HAM/TSP', 'MBL-550', 'MBL -221', 'MBL EXON', 'Incontinência Urinária', 'dor urinária', 'parestesia',\n",
        "       'Paresia', 'Hipereflexia', 'Hipereflexia em MMII', 'Hiperatividade',\n",
        "       'fraqueza', 'caroços no corpo', 'disúria', 'Deficit motor', 'Dormência',\n",
        "       'Dor', 'Dor Articular', 'Dor na bexiga', 'Dor na lombar', 'Dor em MMII',\n",
        "       'perda auditiva', 'Hipertensão', 'marcha espática', 'artrose',\n",
        "       'dificuldade de deambular', 'Perda de força', 'Espasticidade',\n",
        "       'Noctúria', 'Neuropatia', 'Bexiga neurogênica', 'Surtos psiquicos',\n",
        "       'Crises compulsivas', 'Insônia', 'hipertomocidade', 'Cadeirante',\n",
        "       'Mielopatia', 'Câimbras', 'Diabetes', 'Obesidade', 'Depressão ',\n",
        "       'Ansiedade', 'Poliaciúria', 'Baixo fluxo urinário', 'Esquizofrenia',\n",
        "       'Problemas nos MMII', 'Edema MMSS', 'Doença psiquiátrica',\n",
        "       'Osteoporose', 'Insuficiência renal crônica',\n",
        "       'Descontrole esfincteriano', 'Hérnia', 'Dificuldade de urinar',\n",
        "       'Fraqueza ', 'Hipotireodismo', 'Descontrole urinário',\n",
        "       'Síndrome piramidal', 'Dermatite', 'Sífilis', 'Infecções recorrentes']\n",
        "\n",
        "# Dados categóricos Múltiplos\n",
        "cat_mult= ['SINTOMAS', 'MBL-550', 'MBL -221', 'MBL EXON']\n",
        "\n",
        "#Todos os dados\n",
        "all_data = cat_bin + cat_mult"
      ]
    },
    {
      "cell_type": "code",
      "execution_count": null,
      "metadata": {
        "colab": {
          "background_save": true
        },
        "id": "wslnnxj55ZeA",
        "outputId": "43fa3559-dc67-4058-844c-8ff3bdd5693b"
      },
      "outputs": [
        {
          "data": {
            "text/plain": [
              "SEXO                        int64\n",
              "Idade 2018 (2019 AZUL)      int64\n",
              "HAM/TSP                   float64\n",
              "MBL-550                     int64\n",
              "MBL -221                    int64\n",
              "                           ...   \n",
              "Descontrole urinário        int64\n",
              "Síndrome piramidal          int64\n",
              "Dermatite                   int64\n",
              "Sífilis                     int64\n",
              "Infecções recorrentes       int64\n",
              "Length: 62, dtype: object"
            ]
          },
          "execution_count": 9,
          "metadata": {},
          "output_type": "execute_result"
        }
      ],
      "source": [
        "df.dtypes"
      ]
    },
    {
      "cell_type": "markdown",
      "metadata": {
        "id": "6QMyzWbwY3oh"
      },
      "source": [
        "**Análise de dados pré-ML**"
      ]
    },
    {
      "cell_type": "markdown",
      "metadata": {
        "id": "P2xAKjSfQR5E"
      },
      "source": [
        "Distribuição de frequência do alvo (HAM/TSP)"
      ]
    },
    {
      "cell_type": "code",
      "execution_count": null,
      "metadata": {
        "colab": {
          "background_save": true
        },
        "id": "ysv3TiXCQl3M",
        "outputId": "f76e4f3c-14e5-499a-d44e-e1217a55524d"
      },
      "outputs": [
        {
          "data": {
            "image/png": "[encoded data removed]",
            "text/plain": [
              "<Figure size 700x500 with 1 Axes>"
            ]
          },
          "metadata": {},
          "output_type": "display_data"
        }
      ],
      "source": [
        "#Paleta de cores\n",
        "mypal= ['#FF0000', '#FF4500', '#FFFF00','#FFFFE0', '#87CEEB','#0000CD']\n",
        "\n",
        "#Gráfico de Barras para Distribuição das Variáveis\n",
        "plt.figure(figsize=(7, 5),facecolor='#F6F5F4')\n",
        "total = float(len(df))\n",
        "ax = sns.countplot(x=df['HAM/TSP'], palette=mypal[0::2])\n",
        "ax.set_facecolor('#F6F5F4')\n",
        "\n",
        "for p in ax.patches:\n",
        "\n",
        "    height = p.get_height()\n",
        "    ax.text(p.get_x()+p.get_width()/2.,height + 3,'{:1.1f} %'.format((height/total)*100), ha=\"center\")\n",
        "\n",
        "ax.set_title('Frequência_HAM_TSP', fontsize=20, y=1.05)\n",
        "sns.despine(right=True)\n",
        "sns.despine(offset=5, trim=True)\n",
        "\n",
        "# Salvar o gráfico em PDF\n",
        "plt.savefig('/content/drive/MyDrive/Mestrado/Códigos_Bioinfo_e_docs_relacionados(menos_Python_colab)/Treinamento_inicial_ML/ML_(base_wine_dataset)_para_dados_MBL_Ana_patrícia/Resultados_sem_dados_clínicos/' + 'Frequência_HAM_TSP.pdf')"
      ]
    },
    {
      "cell_type": "markdown",
      "metadata": {
        "id": "s8h8xieIY_wy"
      },
      "source": [
        "Matriz de correlação de pearson (heatmap):"
      ]
    },
    {
      "cell_type": "code",
      "execution_count": null,
      "metadata": {
        "id": "LakLXUH2Oxr4"
      },
      "outputs": [],
      "source": [
        "#CORRELAÇÃO\n",
        "mypal= ['#FF0000', '#FF4500', '#FFFF00','#FFFFE0', '#87CEEB','#0000CD']\n",
        "metodo_correlacao = \"spearman\"\n",
        "df_ = df\n",
        "corr = df_.corr(method= metodo_correlacao) #method : {'pearson', 'kendall', 'spearman'}\n",
        "mask = np.triu(np.ones_like(corr, dtype=bool))\n",
        "f, ax = plt.subplots(figsize=(50, 50), facecolor=None)\n",
        "cmap = sns.color_palette(mypal, as_cmap=True)\n",
        "sns.heatmap(corr, mask=mask, cmap=cmap, vmax=1.0, vmin=-1.0, center=0, annot=True,\n",
        "            square=False, linewidths=1, cbar_kws={\"shrink\": 0.5})\n",
        "ax.set_title(\"Numerical features correlation (\"+metodo_correlacao+\")\", fontsize=15, y= 1.05);\n",
        "\n",
        "\n",
        "# Salvar o gráfico em PDF\n",
        "plt.savefig('/content/drive/MyDrive/Mestrado/Códigos_Bioinfo_e_docs_relacionados(menos_Python_colab)/Treinamento_inicial_ML/ML_(base_wine_dataset)_para_dados_MBL_Ana_patrícia/Resultados_final(MBL+Clinica)/tabela_Vanessa_Treinamento_ML' + 'plot_heatmap_corr_pearson.pdf')\n",
        "\n",
        "plt.show()"
      ]
    },
    {
      "cell_type": "markdown",
      "metadata": {
        "id": "rsOPVmtiYQfJ"
      },
      "source": [
        "Limpeza de dados não numéricos e sem valor preditivo para ML"
      ]
    },
    {
      "cell_type": "code",
      "execution_count": null,
      "metadata": {
        "colab": {
          "background_save": true
        },
        "id": "4lymympLqzqW",
        "outputId": "f1ac04c5-ef1d-4c86-8abe-9c34de458949"
      },
      "outputs": [
        {
          "ename": "NameError",
          "evalue": "name 'x' is not defined",
          "output_type": "error",
          "traceback": [
            "\u001b[0;31m---------------------------------------------------------------------------\u001b[0m",
            "\u001b[0;31mNameError\u001b[0m                                 Traceback (most recent call last)",
            "\u001b[0;32m<ipython-input-12-fc17d851ef81>\u001b[0m in \u001b[0;36m<cell line: 1>\u001b[0;34m()\u001b[0m\n\u001b[0;32m----> 1\u001b[0;31m \u001b[0mprint\u001b[0m\u001b[0;34m(\u001b[0m\u001b[0mx\u001b[0m\u001b[0;34m)\u001b[0m\u001b[0;34m\u001b[0m\u001b[0;34m\u001b[0m\u001b[0m\n\u001b[0m",
            "\u001b[0;31mNameError\u001b[0m: name 'x' is not defined"
          ]
        }
      ],
      "source": [
        "print(x)"
      ]
    },
    {
      "cell_type": "code",
      "execution_count": null,
      "metadata": {
        "colab": {
          "background_save": true
        },
        "id": "6bxq9ZwWDQmi"
      },
      "outputs": [],
      "source": [
        "# Separar as variáveis entre preditoras e variável alvo (style);\n",
        "y = df['HAM/TSP'] # Variável alvo;\n",
        "x = df.drop('HAM/TSP', axis = 1) # Variáveis preditoras, sem a alvo;"
      ]
    },
    {
      "cell_type": "code",
      "execution_count": null,
      "metadata": {
        "colab": {
          "background_save": true
        },
        "id": "szTRkrCvFA9Y"
      },
      "outputs": [],
      "source": [
        "# Criando os conjuntos de dados de treino e teste (utilizando o train_test_split):\n",
        "seed=0\n",
        "x_treino, x_teste, y_treino, y_teste = train_test_split(x, y, test_size = 0.3)"
      ]
    },
    {
      "cell_type": "code",
      "execution_count": null,
      "metadata": {
        "colab": {
          "background_save": true
        },
        "id": "nVnNnVEQFQHJ"
      },
      "outputs": [],
      "source": [
        " # Utilizando a classificação por regression tree(ExtraTressClassifier)\n",
        " modelo = ExtraTreesClassifier()\n",
        " modelo.fit(x_treino, y_treino) # Aplicação do modelo (regression tree),nos dados de treino\n",
        "\n",
        " # imprimindo resultados:\n",
        " resultado = modelo.score(x_teste, y_teste) # Modelo testado classificando os dados de teste\n",
        " print(\"Acurácia:\", resultado)"
      ]
    },
    {
      "cell_type": "code",
      "execution_count": null,
      "metadata": {
        "colab": {
          "background_save": true
        },
        "id": "acyGlbmdW-Nz"
      },
      "outputs": [],
      "source": [
        "# Prever dados específicos:\n",
        "previsoes = modelo.predict(x_teste[40:45])\n",
        "previsoes_formatada = ', '.join(str(valor) for valor in previsoes) # concatena lista e converte valores em strings, apresentados separados por \",\";\n",
        "\n",
        "# Utilizando a compreensão de lista com operador ternário para substituir '1' por \"vinho branco\"\n",
        "previsoes_formatada = [\"Sem mielopatia\" if valor == 0 else \"HAM/TSP\" for valor in previsoes]\n",
        "\n",
        "\n",
        "print(f\"O valor indicado pelo modelo corresponde há: \\n{previsoes_formatada} \\n\")\n",
        "\n",
        "# Gabarito:\n",
        "y_teste_lista = y_teste[40:45]\n",
        "y_teste_lista = [\"HAM/TSP\" if valor == 1 else \"Sem mielopatia\" for valor in previsoes]\n",
        "print(f\"O valor real (gabarito), corresponde há:\\n{y_teste_lista}\")\n"
      ]
    },
    {
      "cell_type": "code",
      "execution_count": null,
      "metadata": {
        "colab": {
          "background_save": true
        },
        "id": "A_7Z1LJJmI-J"
      },
      "outputs": [],
      "source": [
        "#Lista dos pacotes de ML que iremos rodar\n",
        "classifiers = [\n",
        "    LogisticRegression(solver=\"liblinear\", random_state=seed),\n",
        "    KNeighborsClassifier(2),\n",
        "    SVC(probability=True, random_state=seed),\n",
        "    DecisionTreeClassifier(random_state=seed),\n",
        "    RandomForestClassifier(random_state=seed),\n",
        "    AdaBoostClassifier(random_state=seed),\n",
        "    GradientBoostingClassifier(random_state=seed),\n",
        "    GaussianNB(),\n",
        "    LinearDiscriminantAnalysis(),\n",
        "    QuadraticDiscriminantAnalysis(),\n",
        "    MLPClassifier(random_state=seed),\n",
        "]\n",
        "\n",
        "#Nome dos algorítimos de ML que utilizaremos\n",
        "names = [\n",
        "    'Logistic Regression',\n",
        "    'Nearest Neighbors',\n",
        "    'Support Vectors',\n",
        "    'Decision Tree',\n",
        "    'Random Forest',\n",
        "    'AdaBoost',\n",
        "    'Gradient Boosting',\n",
        "    'Naive Bayes',\n",
        "    'Linear DA',\n",
        "    'Quadratic DA',\n",
        "    \"Neural Net\"\n",
        "]\n",
        "\n",
        "#criação do modelo\n",
        "for item, nome in zip(classifiers, names):\n",
        "  item.fit(x_treino, y_treino)\n",
        "\n",
        "  #Imprimindo Resultados\n",
        "  resultado = item.score(x_teste, y_teste)\n",
        "  print(nome + \": Acurácia do modelo - \", resultado*100, \" %\")\n",
        "  with open('/content/drive/MyDrive/Mestrado/Códigos_Bioinfo_e_docs_relacionados(menos_Python_colab)/Treinamento_inicial_ML/ML_(base_wine_dataset)_para_dados_MBL_Ana_patrícia/Resultados_sem_dados_clínicos/'+\"Resultado_ML_MBL_sem_dados_clínicos.txt\", 'a') as f:\n",
        "    print(nome + \": Acurácia do modelo - \", resultado*100, \" %\", file = f)"
      ]
    },
    {
      "cell_type": "markdown",
      "metadata": {
        "id": "eMo95MytLciZ"
      },
      "source": [
        "Ajeitadinho a ser estudado para correções de bug e implementação da curva ROC\n"
      ]
    },
    {
      "cell_type": "code",
      "execution_count": null,
      "metadata": {
        "colab": {
          "background_save": true
        },
        "id": "i-hG-yaWGUDg"
      },
      "outputs": [],
      "source": [
        "import numpy as np\n",
        "\n",
        "# Converta x_teste e y_teste em matrizes NumPy\n",
        "x_teste = np.array(x_teste)\n",
        "y_teste = np.array(y_teste)\n",
        "\n",
        "# Verifique a contiguidade da matriz x_teste\n",
        "if hasattr(x_teste, 'flags') and x_teste.flags.c_contiguous:\n",
        "    print(\"x_teste é c-contígua\")\n",
        "else:\n",
        "    print(\"x_teste não é c-contígua\")\n",
        "\n",
        "# Verifique a contiguidade da matriz y_teste (se aplicável)\n",
        "if hasattr(y_teste, 'flags') and y_teste.flags.c_contiguous:\n",
        "    print(\"y_teste é c-contígua\")\n",
        "else:\n",
        "    print(\"y_teste não é c-contígua\")\n"
      ]
    },
    {
      "cell_type": "code",
      "execution_count": null,
      "metadata": {
        "colab": {
          "background_save": true
        },
        "id": "JEeKzzQeGocA"
      },
      "outputs": [],
      "source": [
        "import numpy as np\n",
        "\n",
        "# Converter x_teste em uma matriz c-contígua\n",
        "x_teste = np.ascontiguousarray(x_teste)\n",
        "\n",
        "# Verifique a contiguidade da matriz x_teste\n",
        "if hasattr(x_teste, 'flags') and x_teste.flags.c_contiguous:\n",
        "    print(\"x_teste é c-contígua\")\n",
        "else:\n",
        "    print(\"x_teste ainda não é c-contígua\")\n"
      ]
    },
    {
      "cell_type": "code",
      "execution_count": null,
      "metadata": {
        "colab": {
          "background_save": true
        },
        "id": "hT3yC6I-ljQn"
      },
      "outputs": [],
      "source": [
        "#SUMÁRIO DOS SCORES\n",
        "cols=[\"Classifier\", \"Accuracy\", \"Recall\", \"Precision\", \"F1\"]\n",
        "#cols=[\"Classifier\", \"Accuracy\", \"ROC_AUC\", \"Recall\", \"Precision\", \"F1\"]\n",
        "data_table = pd.DataFrame(columns=cols)\n",
        "\n",
        "for name, clf in zip(names, classifiers):\n",
        "  clf.fit(x_treino, y_treino)\n",
        "\n",
        "  pred = clf.predict(x_teste)\n",
        "  accuracy = accuracy_score(y_teste, pred)\n",
        "\n",
        "  pred_proba = clf.predict_proba(x_teste)[:, 1]\n",
        "\n",
        "  #fpr, tpr, thresholds = roc_curve(y_teste, pred_proba)\n",
        "  #roc_auc = auc(fpr, tpr)\n",
        "\n",
        "  # confusion matric, cm\n",
        "  cm = confusion_matrix(y_teste, pred)\n",
        "\n",
        "  # recall: TP/(TP+FN)\n",
        "  recall = cm[1,1]/(cm[1,1] +cm[1,0])\n",
        "\n",
        "  # precision: TP/(TP+FP)\n",
        "  precision = cm[1,1]/(cm[1,1] +cm[0,1])\n",
        "\n",
        "  # F1 score: TP/(TP+FP)\n",
        "  f1 = 2*recall*precision/(recall + precision)\n",
        "\n",
        "  #df = pd.DataFrame([[name, accuracy*100, roc_auc, recall, precision, f1]], columns=cols)\n",
        "  df = pd.DataFrame([[name, accuracy*100, recall, precision, f1]], columns=cols)\n",
        "  data_table = data_table.append(df)\n",
        "\n",
        "score_data = np.round(data_table.reset_index(drop=True), 2)"
      ]
    },
    {
      "cell_type": "code",
      "execution_count": null,
      "metadata": {
        "colab": {
          "background_save": true
        },
        "id": "o0sqP2pwc7zx"
      },
      "outputs": [],
      "source": [
        "#Formatando DADOS como heatmap\n",
        "score_data.sort_values(by='Accuracy' , ascending = False)\\\n",
        ".style.background_gradient(cmap='coolwarm')\\\n",
        ".bar(subset=[\"Recall\"], color='#ff355d')\\\n",
        ".bar(subset=[\"Precision\"], color='lightseagreen')\\\n",
        ".bar(subset=[\"F1\"], color='gold')\\\n",
        ".to_excel(diretorio_name+\"/\"+nome_arquivo+\"_RESULTADOS_ML.xlsx\", engine='openpyxl')"
      ]
    },
    {
      "cell_type": "code",
      "execution_count": null,
      "metadata": {
        "id": "fcO5RSKTMaFa"
      },
      "outputs": [],
      "source": [
        "#PACOTES PARA RODAR O ROC PARA VARIÁVEIS MÚLTIPLAS\n",
        "from yellowbrick.classifier import ROCAUC\n",
        "from yellowbrick.datasets import load_game\n",
        "\n",
        "#criação do modelo\n",
        "for item, nome in zip(classifiers, names):\n",
        "  item.fit(x_treino, y_treino)\n",
        "\n",
        "  #Imprimindo Resultados\n",
        "  try:\n",
        "    visualizer = ROCAUC(item, classes=[\"0\", \"1\", \"2\"])\n",
        "\n",
        "    visualizer.fit(x_treino, y_treino)  # Fit the training data to the visualizer\n",
        "    visualizer.score(x_teste, y_teste)  # Evaluate the model on the test data\n",
        "    visualizer.show(outpath= diretorio_name+\"/\"+\"O_que_eu_quiser\"+\"_ROC_curves_\"+nome+\".png\", clear_figure=True)\n",
        "    visualizer.show\n",
        "\n",
        "  except:\n",
        "    print(\"\\n\\n ERRO no método: \", nome)\n",
        "    print(\"\\n\\n\")"
      ]
    },
    {
      "cell_type": "markdown",
      "metadata": {
        "id": "ZRv49iMNhOze"
      },
      "source": [
        "Transformação dos dados gerados em figuras"
      ]
    },
    {
      "cell_type": "code",
      "execution_count": null,
      "metadata": {
        "id": "hX5FX_-VhOBI"
      },
      "outputs": [],
      "source": [
        "import pandas as pd\n",
        "import seaborn as sns\n",
        "import matplotlib.pyplot as plt\n",
        "\n",
        "# Carregue seu próprio conjunto de dados (substitua pelo caminho do seu arquivo CSV)\n",
        "seu_dataframe = pd.read_csv(\"/content/drive/MyDrive/Mestrado/Códigos_Bioinfo_e_docs_relacionados(menos_Python_colab)/Treinamento_inicial_ML/ML_(base_wine_dataset)_para_dados_MBL_Ana_patrícia/Resultados_final(MBL+Clinica)/tabela_Vanessa_Treinamento_ML/Gráficos avaliados Simp-HTLV 2023/Resultados dos modelos de ML Simp-HTLV 2023.xlsx - Sheet1.csv\")\n",
        "\n",
        "# Crie seu gráfico com base no seu conjunto de dados\n",
        "sns.set_theme(style=\"whitegrid\")\n",
        "sns.barplot(data=seu_dataframe, x=\"Classifier\", y=\"Accuracy\", hue=\"Precision\", errorbar=\"sd\", palette=\"dark\", alpha=.6, height=6)\n",
        "plt.xlabel(\"\")\n",
        "plt.ylabel(\"Recall\")\n",
        "plt.legend(title=\"\")\n",
        "\n",
        "# Exiba o gráfico\n",
        "plt.show()\n"
      ]
    }
  ],
  "metadata": {
    "colab": {
      "provenance": [],
      "mount_file_id": "1VZAdZvpR7_qCkXAmUA9IVQC44U521cmC",
      "authorship_tag": "ABX9TyM0Wu4ygKkbIs/ro7d43pmr",
      "include_colab_link": true
    },
    "kernelspec": {
      "display_name": "Python 3",
      "name": "python3"
    },
    "language_info": {
      "name": "python"
    }
  },
  "nbformat": 4,
  "nbformat_minor": 0
}